{
  "nbformat": 4,
  "nbformat_minor": 0,
  "metadata": {
    "colab": {
      "provenance": []
    },
    "kernelspec": {
      "name": "python3",
      "display_name": "Python 3"
    },
    "language_info": {
      "name": "python"
    }
  },
  "cells": [
    {
      "cell_type": "code",
      "source": [
        "from google.colab import drive\n",
        "drive.mount('/content/drive')"
      ],
      "metadata": {
        "colab": {
          "base_uri": "https://localhost:8080/"
        },
        "id": "YQ0ijF2ItJV1",
        "outputId": "e247024b-4f67-4075-c641-64e2417a0fe4"
      },
      "execution_count": 14,
      "outputs": [
        {
          "output_type": "stream",
          "name": "stdout",
          "text": [
            "Drive already mounted at /content/drive; to attempt to forcibly remount, call drive.mount(\"/content/drive\", force_remount=True).\n"
          ]
        }
      ]
    },
    {
      "cell_type": "code",
      "source": [
        "import websocket  # NOTE: websocket-client (https://github.com/websocket-client/websocket-client)\n",
        "import uuid\n",
        "import json\n",
        "import urllib.request\n",
        "import urllib.parse\n",
        "from PIL import Image\n",
        "import io\n",
        "import matplotlib.pyplot as plt\n",
        "import matplotlib.image as mpimg\n",
        "import requests"
      ],
      "metadata": {
        "id": "IeTt5EQPsyNg"
      },
      "execution_count": 28,
      "outputs": []
    },
    {
      "cell_type": "code",
      "source": [
        "def post_image(image_path, subfolder, folder_type):\n",
        "\n",
        "    url = f\"http://{server_address}/upload/image\"\n",
        "\n",
        "    # Additional Form Data\n",
        "    data = {\n",
        "        \"overwrite\": \"true\",                 # Overwrite behavior (optional)\n",
        "        \"type\": folder_type,                 # Directory type: input, temp, or output\n",
        "        \"subfolder\": subfolder               # Subfolder name (optional)\n",
        "    }\n",
        "\n",
        "    files = {\n",
        "        \"image\": open(image_path, \"rb\")       # Image file\n",
        "    }\n",
        "\n",
        "    try:\n",
        "        # Send POST Request\n",
        "        response = requests.post(url, data=data, files=files)\n",
        "\n",
        "        # Handle Response\n",
        "        if response.status_code == 200:\n",
        "            print(\"Image uploaded successfully!\")\n",
        "            print(\"Response JSON:\", response.json())\n",
        "        else:\n",
        "            print(f\"Failed to upload image. Status Code: {response.status_code}\")\n",
        "            print(\"Response Text:\", response.text)\n",
        "\n",
        "            return None\n",
        "\n",
        "        return response.json()\n",
        "\n",
        "    except Exception as e:\n",
        "        print(\"Error occurred:\", e)\n",
        "\n",
        "\n",
        "def queue_prompt(prompt):\n",
        "\n",
        "    url = f\"http://{server_address}/prompt\"\n",
        "\n",
        "    try:\n",
        "        # Prepare the payload\n",
        "        payload = {\"prompt\": prompt, \"client_id\": client_id}\n",
        "\n",
        "        # Send the POST request using the requests library\n",
        "        response = requests.post(f\"http://{server_address}/prompt\", json=payload)\n",
        "\n",
        "        # Raise an error for bad status codes\n",
        "        response.raise_for_status()\n",
        "\n",
        "        # Parse and return the JSON response\n",
        "        return response.json()\n",
        "\n",
        "    except requests.RequestException as e:\n",
        "        print(f\"Error in queue_prompt: {e}\")\n",
        "        return None\n",
        "\n",
        "\n",
        "def get_history(prompt_id):\n",
        "\n",
        "    url = f\"http://{server_address}/history/{prompt_id}\"\n",
        "\n",
        "    try:\n",
        "        # Send the GET request using the requests library\n",
        "        response = requests.get(url)\n",
        "\n",
        "        # Raise an error for bad status codes\n",
        "        response.raise_for_status()\n",
        "\n",
        "        # Parse and return the JSON response\n",
        "        return response.json()\n",
        "\n",
        "    except requests.RequestException as e:\n",
        "        print(f\"Error in get_history: {e}\")\n",
        "        return None\n",
        "\n",
        "\n",
        "def get_image(filename, subfolder, folder_type):\n",
        "    url = f\"http://{server_address}/view\"\n",
        "    params = {\n",
        "        \"filename\": filename,\n",
        "        \"subfolder\": subfolder,\n",
        "        \"type\": folder_type,\n",
        "    }\n",
        "\n",
        "    try:\n",
        "        # Send the GET request with query parameters\n",
        "        response = requests.get(url, params=params)\n",
        "\n",
        "        # Raise an error for bad status codes\n",
        "        response.raise_for_status()\n",
        "\n",
        "        # Return the raw content (binary data)\n",
        "        return response.content\n",
        "\n",
        "    except requests.RequestException as e:\n",
        "        print(f\"Error in get_image: {e}\")\n",
        "        return None"
      ],
      "metadata": {
        "id": "DjbpkOn_s2bh"
      },
      "execution_count": 112,
      "outputs": []
    },
    {
      "cell_type": "code",
      "source": [
        "def edit_hair(src_path, ref_path, ws):\n",
        "\n",
        "\n",
        "    \"-----------------------Upload Images-----------------------------\"\n",
        "    src = post_image(src_path, subfolder, folder_type)\n",
        "    ref = post_image(ref_path, subfolder, folder_type)\n",
        "\n",
        "\n",
        "    \"-----------------------Execute Workflow-----------------------------\"\n",
        "    # Load the workflow JSON\n",
        "    with open(workflow_api_path, \"r\", encoding=\"utf-8\") as f:\n",
        "        workflow_data = f.read()\n",
        "\n",
        "    prompt = json.loads(workflow_data)\n",
        "\n",
        "    src_image = f\"{comfyUI}/{src['type']}/{src['subfolder']}/{src['name']}\"\n",
        "    ref_image = f\"{comfyUI}/{ref['type']}/{ref['subfolder']}/{ref['name']}\"\n",
        "\n",
        "    # Set the text prompt and seed\n",
        "    prompt[\"1\"][\"inputs\"][\"image\"] = src_image\n",
        "    prompt[\"2\"][\"inputs\"][\"image\"] = ref_image\n",
        "\n",
        "    prompt_response = queue_prompt(prompt)\n",
        "    prompt_id = prompt_response['prompt_id']\n",
        "\n",
        "    if not prompt_response:\n",
        "        print(\"Failed to queue the prompt.\")\n",
        "    else:\n",
        "        print(\"Prompt queued successfully!\")\n",
        "        print(\"Prompt ID:\", prompt_id)\n",
        "\n",
        "\n",
        "    \"-----------------------Waiting for Execute Finish------------------------\"\n",
        "    while True:\n",
        "        out = ws.recv()\n",
        "        if isinstance(out, str):\n",
        "            message = json.loads(out)\n",
        "            if message['type'] == 'executing':\n",
        "                data = message['data']\n",
        "                if data['node'] is None and data['prompt_id'] == prompt_id:\n",
        "                    break #Execution is done\n",
        "        else:\n",
        "            # If you want to be able to decode the binary stream for latent previews, here is how you can do it:\n",
        "            # bytesIO = BytesIO(out[8:])\n",
        "            # preview_image = Image.open(bytesIO) # This is your preview in PIL image format, store it in a global\n",
        "            continue #previews are binary data\n",
        "\n",
        "\n",
        "    \"-----------------------Get Output-----------------------------\"\n",
        "    history = get_history(prompt_id)\n",
        "    history_data = history[prompt_id]\n",
        "\n",
        "    for node_id in history_data['outputs']:\n",
        "        node_output = history_data['outputs'][node_id]\n",
        "        if 'images' in node_output:\n",
        "            for image in node_output['images']:\n",
        "                if image['type'] == 'output':\n",
        "                    image_data = get_image(image['filename'], image['subfolder'], image['type'])\n",
        "\n",
        "                    # Save the binary data to a file\n",
        "                    if image_data:\n",
        "                        output_path = f\"{output_dir}/{image['filename']}\"\n",
        "                        # Convert binary data to image\n",
        "                        img = Image.open(io.BytesIO(image_data))\n",
        "\n",
        "                        # Save the image as JPG (you can specify a different path if needed)\n",
        "                        img.save(output_path, \"JPEG\")\n",
        "\n",
        "                        print(f\"Image saved as {output_path}\")\n",
        "                    else:\n",
        "                        print(f\"Failed to retrieve the image: {image['filename']}\")"
      ],
      "metadata": {
        "id": "WV4tnFi5bJcu"
      },
      "execution_count": 118,
      "outputs": []
    },
    {
      "cell_type": "code",
      "source": [
        "server_address = \"rnytu-34-105-18-165.a.free.pinggy.link:80\"\n",
        "client_id = str(uuid.uuid4())\n",
        "\n",
        "comfyUI = \"/kaggle/working/ComfyUI/\"\n",
        "workflow_api_path = \"/content/drive/MyDrive/ỨngDụngvàXửLíẢnh/Final/Workflow/Virtual_TryOn_api_PYTHONRUN.json\"\n",
        "\n",
        "src_path = \"/content/drive/MyDrive/ỨngDụngvàXửLíẢnh/Final/data/Men/360° メンズヘアカタログ 長さ別検索.jpg\"\n",
        "ref_path = \"/content/drive/MyDrive/ỨngDụngvàXửLíẢnh/Final/data/Men/[Gallery]最強ヘアカタログ、ショート10スタイル.jpg\"\n",
        "subfolder = \"UPLOADED_IMAGES\"\n",
        "folder_type = \"input\"\n",
        "\n",
        "output_dir = \"/content/drive/MyDrive/ỨngDụngvàXửLíẢnh/Final/Output\"\n"
      ],
      "metadata": {
        "id": "h1PsS-2dgeEV"
      },
      "execution_count": 119,
      "outputs": []
    },
    {
      "cell_type": "code",
      "source": [
        "ws = websocket.WebSocket()\n",
        "ws.connect(f\"ws://{server_address}/ws?clientId={client_id}\")\n",
        "edit_hair(src_path, ref_path,ws)\n",
        "ws.close()"
      ],
      "metadata": {
        "colab": {
          "base_uri": "https://localhost:8080/"
        },
        "id": "447D68rLccy9",
        "outputId": "6c0867d7-1c3b-4045-806c-c01d1bcf3c8a"
      },
      "execution_count": 120,
      "outputs": [
        {
          "output_type": "stream",
          "name": "stdout",
          "text": [
            "Image uploaded successfully!\n",
            "Response JSON: {'name': '360° メンズヘアカタログ 長さ別検索.jpg', 'subfolder': 'UPLOADED_IMAGES', 'type': 'input'}\n",
            "Image uploaded successfully!\n",
            "Response JSON: {'name': '[Gallery]最強ヘアカタログ、ショート10スタイル.jpg', 'subfolder': 'UPLOADED_IMAGES', 'type': 'input'}\n",
            "Prompt queued successfully!\n",
            "Prompt ID: c9ac3f33-a060-4dcb-8452-bc3b2f716b57\n",
            "Image saved as /content/drive/MyDrive/ỨngDụngvàXửLíẢnh/Final/Output/ComfyUI_00009_.png\n"
          ]
        }
      ]
    },
    {
      "cell_type": "code",
      "source": [],
      "metadata": {
        "id": "OnbfZww5cnqC"
      },
      "execution_count": null,
      "outputs": []
    }
  ]
}